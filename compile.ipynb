from directory_manager import DirectoryManager
from read_data import DataReader
from image_detection import ObjectDetection
from extrapolation_photometry import ExtrapolationPhotometry

base_path = '..'
data_path = 'Data_AT2016blu/20240217/reduced_g'
dr = DataReader(base_path, data_path)
files_path = dr.read_files()
data = dr.read_data(files_path)
dr.visualize_fits(data.keys(), num_cols=5)

reference_image = '../Data_AT2016blu/g_stacked.png'
star_chart = '../CHART AT2016blu.png'
od = ObjectDetection(data, reference_image=reference_image, star_chart=star_chart)
od.show_reference_and_chart()

estimated_target = (1068, 594)
estimated_comparison = (482, 518)
estimated_check = (1818, 382)

od.set_estimated_positions(estimated_target, estimated_comparison, estimated_check)

target_refs = [(958 - 200, 544 + 150), (1300, 692), (1370, 408)]
comparison_refs = [(226 + 200, 664), (630, 630), (602, 304)]
check_refs = [(1628 - 300, 490 + 180), (1844, 578), (1934, 254)]

od.set_reference_stars(target_refs, comparison_refs, check_refs)

target, comparison, check = od.align_and_detect_stars(crop_size=125)

od.show_detected_stars()

min_radius = 9
max_radius = 18
parent_folder = "data_output"
dir_manager = DirectoryManager(parent_folder)
subfolder = '20240217'
subsubfolder = 'reduced_g'
ep = ExtrapolationPhotometry(target, comparison, check, min_radius, max_radius, dir_manager, subfolder, subsubfolder)
results = ep.perform_photometry()

extrapolation_results = ep.extrapolate_to_zero(results)

data_mag_diff = ep.compute_magnitude_differences(extrapolation_results)

regression_results = ep.perform_flux_regression(results)
df_mag_diff = ep.compute_magnitude_differences(extrapolation_results)

ep.visualize_magnitude_differences(data_mag_diff)
ep.visualize_magnitude_differences(df_mag_diff)
